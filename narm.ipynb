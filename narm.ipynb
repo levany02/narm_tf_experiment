{
 "cells": [
  {
   "cell_type": "code",
   "execution_count": 1,
   "id": "lesbian-gallery",
   "metadata": {},
   "outputs": [],
   "source": [
    "import tensorflow as tf\n",
    "from tensorflow.keras import layers\n",
    "import numpy as np"
   ]
  },
  {
   "cell_type": "code",
   "execution_count": 9,
   "id": "featured-education",
   "metadata": {},
   "outputs": [],
   "source": [
    "X = np.random.randint(1000, size=(1000, 16))\n",
    "Y = np.random.randint(1000, size=(1000, 11))"
   ]
  },
  {
   "cell_type": "code",
   "execution_count": 10,
   "id": "intelligent-prague",
   "metadata": {},
   "outputs": [],
   "source": [
    "dataset = tf.data.Dataset.from_tensor_slices((X, Y))"
   ]
  },
  {
   "cell_type": "code",
   "execution_count": 11,
   "id": "emotional-therapist",
   "metadata": {},
   "outputs": [],
   "source": [
    "dataset = dataset.batch(32)"
   ]
  },
  {
   "cell_type": "code",
   "execution_count": 13,
   "id": "unusual-programming",
   "metadata": {},
   "outputs": [
    {
     "data": {
      "text/plain": [
       "(TensorShape([32, 16]), TensorShape([32, 11]))"
      ]
     },
     "execution_count": 13,
     "metadata": {},
     "output_type": "execute_result"
    }
   ],
   "source": [
    "x0, y0 = next(iter(dataset))\n",
    "x0.shape, y0.shape"
   ]
  },
  {
   "cell_type": "code",
   "execution_count": 16,
   "id": "plastic-neutral",
   "metadata": {},
   "outputs": [
    {
     "data": {
      "text/plain": [
       "TensorShape([32, 16, 16])"
      ]
     },
     "execution_count": 16,
     "metadata": {},
     "output_type": "execute_result"
    }
   ],
   "source": [
    "x = layers.Embedding(1000, 16)(x0)\n",
    "x.shape"
   ]
  },
  {
   "cell_type": "code",
   "execution_count": 20,
   "id": "operating-stamp",
   "metadata": {},
   "outputs": [
    {
     "data": {
      "text/plain": [
       "(TensorShape([32, 16, 8]), TensorShape([32, 8]))"
      ]
     },
     "execution_count": 20,
     "metadata": {},
     "output_type": "execute_result"
    }
   ],
   "source": [
    "x1, h1 = layers.GRU(8, return_sequences=True,\n",
    "                       return_state=True,\n",
    "                       recurrent_initializer='glorot_uniform')(x)\n",
    "x1.shape, h1.shape"
   ]
  },
  {
   "cell_type": "code",
   "execution_count": 35,
   "id": "unauthorized-pointer",
   "metadata": {},
   "outputs": [
    {
     "data": {
      "text/plain": [
       "TensorShape([1, 32, 8])"
      ]
     },
     "execution_count": 35,
     "metadata": {},
     "output_type": "execute_result"
    }
   ],
   "source": [
    "h11 = tf.expand_dims(h1, axis=0)\n",
    "h11.shape"
   ]
  },
  {
   "cell_type": "code",
   "execution_count": 37,
   "id": "returning-intent",
   "metadata": {},
   "outputs": [
    {
     "data": {
      "text/plain": [
       "TensorShape([32, 8])"
      ]
     },
     "execution_count": 37,
     "metadata": {},
     "output_type": "execute_result"
    }
   ],
   "source": [
    "ht = h11[-1]\n",
    "ht.shape"
   ]
  },
  {
   "cell_type": "code",
   "execution_count": 74,
   "id": "overhead-boxing",
   "metadata": {},
   "outputs": [],
   "source": [
    "c_global = ht"
   ]
  },
  {
   "cell_type": "code",
   "execution_count": 41,
   "id": "north-hughes",
   "metadata": {},
   "outputs": [],
   "source": [
    "# q_t = tf.expand_dims(h11, 1)\n",
    "# q_t.shape"
   ]
  },
  {
   "cell_type": "code",
   "execution_count": 42,
   "id": "sitting-salmon",
   "metadata": {},
   "outputs": [
    {
     "data": {
      "text/plain": [
       "TensorShape([32, 16, 8])"
      ]
     },
     "execution_count": 42,
     "metadata": {},
     "output_type": "execute_result"
    }
   ],
   "source": [
    "q1 = layers.Dense(8, use_bias=False)(x1)\n",
    "q1.shape"
   ]
  },
  {
   "cell_type": "code",
   "execution_count": 44,
   "id": "smoking-resistance",
   "metadata": {},
   "outputs": [
    {
     "data": {
      "text/plain": [
       "TensorShape([32, 8])"
      ]
     },
     "execution_count": 44,
     "metadata": {},
     "output_type": "execute_result"
    }
   ],
   "source": [
    "q2 = layers.Dense(8, use_bias=False)(ht)\n",
    "q2.shape"
   ]
  },
  {
   "cell_type": "code",
   "execution_count": 46,
   "id": "finite-crowd",
   "metadata": {},
   "outputs": [
    {
     "data": {
      "text/plain": [
       "TensorShape([32, 16])"
      ]
     },
     "execution_count": 46,
     "metadata": {},
     "output_type": "execute_result"
    }
   ],
   "source": [
    "mask = tf.ones((32,16))\n",
    "mask.shape"
   ]
  },
  {
   "cell_type": "code",
   "execution_count": 55,
   "id": "nonprofit-input",
   "metadata": {},
   "outputs": [
    {
     "data": {
      "text/plain": [
       "TensorShape([32, 16, 8])"
      ]
     },
     "execution_count": 55,
     "metadata": {},
     "output_type": "execute_result"
    }
   ],
   "source": [
    "q2_expand = tf.broadcast_to(tf.expand_dims(q2, 1), q1.shape)\n",
    "q2_expand.shape"
   ]
  },
  {
   "cell_type": "code",
   "execution_count": 57,
   "id": "demanding-thesis",
   "metadata": {},
   "outputs": [
    {
     "data": {
      "text/plain": [
       "TensorShape([32, 16, 8])"
      ]
     },
     "execution_count": 57,
     "metadata": {},
     "output_type": "execute_result"
    }
   ],
   "source": [
    "q2_masked = tf.broadcast_to(tf.expand_dims(mask, -1), q1.shape)*q2_expand\n",
    "q2_masked.shape"
   ]
  },
  {
   "cell_type": "code",
   "execution_count": 65,
   "id": "verified-inquiry",
   "metadata": {},
   "outputs": [
    {
     "data": {
      "text/plain": [
       "TensorShape([32, 16])"
      ]
     },
     "execution_count": 65,
     "metadata": {},
     "output_type": "execute_result"
    }
   ],
   "source": [
    "a = layers.Dense(1, use_bias=False)(tf.reshape(tf.sigmoid(q1 + q2_masked), shape=(-1, 8)))\n",
    "anpha = tf.reshape(a, mask.shape)\n",
    "anpha.shape"
   ]
  },
  {
   "cell_type": "code",
   "execution_count": 67,
   "id": "royal-genealogy",
   "metadata": {},
   "outputs": [
    {
     "data": {
      "text/plain": [
       "TensorShape([32, 16, 8])"
      ]
     },
     "execution_count": 67,
     "metadata": {},
     "output_type": "execute_result"
    }
   ],
   "source": [
    "anpha_exp = tf.broadcast_to(tf.expand_dims(anpha, 2), shape=x1.shape)\n",
    "anpha_exp.shape"
   ]
  },
  {
   "cell_type": "code",
   "execution_count": 75,
   "id": "dress-windsor",
   "metadata": {},
   "outputs": [
    {
     "data": {
      "text/plain": [
       "TensorShape([32, 8])"
      ]
     },
     "execution_count": 75,
     "metadata": {},
     "output_type": "execute_result"
    }
   ],
   "source": [
    "c_local = tf.reduce_sum(anpha_exp*x1, axis=1)\n",
    "c_local.shape"
   ]
  },
  {
   "cell_type": "code",
   "execution_count": 78,
   "id": "returning-cigarette",
   "metadata": {},
   "outputs": [
    {
     "data": {
      "text/plain": [
       "TensorShape([32, 16])"
      ]
     },
     "execution_count": 78,
     "metadata": {},
     "output_type": "execute_result"
    }
   ],
   "source": [
    "c_t = tf.concat([c_local, c_global], 1)\n",
    "c_t.shape"
   ]
  },
  {
   "cell_type": "code",
   "execution_count": 80,
   "id": "abandoned-muslim",
   "metadata": {},
   "outputs": [
    {
     "data": {
      "text/plain": [
       "TensorShape([1000])"
      ]
     },
     "execution_count": 80,
     "metadata": {},
     "output_type": "execute_result"
    }
   ],
   "source": [
    "item_indices = tf.range(1000)\n",
    "item_indices.shape"
   ]
  },
  {
   "cell_type": "code",
   "execution_count": 83,
   "id": "favorite-disclaimer",
   "metadata": {},
   "outputs": [
    {
     "data": {
      "text/plain": [
       "TensorShape([1000, 16])"
      ]
     },
     "execution_count": 83,
     "metadata": {},
     "output_type": "execute_result"
    }
   ],
   "source": [
    "item_embs = layers.Embedding(1000, 16)(item_indices)\n",
    "item_embs.shape"
   ]
  },
  {
   "cell_type": "code",
   "execution_count": 87,
   "id": "another-committee",
   "metadata": {},
   "outputs": [
    {
     "data": {
      "text/plain": [
       "TensorShape([16, 1000])"
      ]
     },
     "execution_count": 87,
     "metadata": {},
     "output_type": "execute_result"
    }
   ],
   "source": [
    "B = tf.transpose(layers.Dense(16, use_bias=False)(item_embs), perm=(1,0))\n",
    "B.shape"
   ]
  },
  {
   "cell_type": "code",
   "execution_count": 88,
   "id": "oriented-beverage",
   "metadata": {},
   "outputs": [
    {
     "data": {
      "text/plain": [
       "<tf.Tensor: shape=(32, 1000), dtype=float32, numpy=\n",
       "array([[-2.6993142e-04, -7.7177648e-04, -3.0237159e-03, ...,\n",
       "        -2.0859393e-03,  3.1117271e-03,  1.6633859e-03],\n",
       "       [ 1.9095363e-03, -4.3103634e-03, -1.6339528e-03, ...,\n",
       "         8.7697189e-03, -3.5207812e-03,  1.8739251e-03],\n",
       "       [ 1.7727338e-03, -3.0188120e-03,  2.0405627e-03, ...,\n",
       "        -2.0793173e-05, -3.6653685e-03, -5.7584851e-04],\n",
       "       ...,\n",
       "       [-4.9045839e-04,  2.9522530e-03, -1.3343183e-03, ...,\n",
       "        -1.1360727e-03,  6.5652337e-03,  1.6718714e-03],\n",
       "       [-1.4801731e-03,  5.2711801e-03,  4.7737225e-03, ...,\n",
       "         5.9710736e-03,  6.8791618e-04, -1.4408793e-03],\n",
       "       [ 8.5831922e-04, -3.5764184e-03,  4.6938710e-04, ...,\n",
       "        -3.5385431e-03, -4.4757500e-03, -2.3120157e-03]], dtype=float32)>"
      ]
     },
     "execution_count": 88,
     "metadata": {},
     "output_type": "execute_result"
    }
   ],
   "source": [
    "tf.matmul(c_t, B)"
   ]
  }
 ],
 "metadata": {
  "kernelspec": {
   "display_name": "Python 3",
   "language": "python",
   "name": "python3"
  },
  "language_info": {
   "codemirror_mode": {
    "name": "ipython",
    "version": 3
   },
   "file_extension": ".py",
   "mimetype": "text/x-python",
   "name": "python",
   "nbconvert_exporter": "python",
   "pygments_lexer": "ipython3",
   "version": "3.8.5"
  }
 },
 "nbformat": 4,
 "nbformat_minor": 5
}
